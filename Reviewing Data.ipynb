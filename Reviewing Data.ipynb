{
 "cells": [
  {
   "cell_type": "markdown",
   "metadata": {},
   "source": [
    "<p><h1>Capstone Project</h1>\n",
    "<h2>Introduction</h2>\n",
    "<h4>The question I've chosen to answer is: \"Where is the best place to open a new table-top and trading card game store in Vancouver?\"</h4>\n",
    "<br>\n",
    "<span>\n",
    "As a board game, trading card game enthusiast myself; I’ve seen stores close within a year of opening to some that stand the test of time. The people who frequent these stores are very diverse and possess diverse interests. Some are causal players who are interesting in “kitchen table” gaming. Many are children who spend the afterschool hours with friends. There also those who are very competitive and regularly frequent many different stores to build their league score.\n",
    "<br>\n",
    "My audience is a prospective store owner. Fundamentally, I will try to use a combination of venue-to-venue data, user-to-user data, and user-to-venue data to determine the best cluster to set up shop. Outside of Foursquare, I'll also need to add rent averages somehow, likely an average based on zone. If possible, I’ll also try to find old stores that have since close to create a “failure statistic”.\n",
    "I predict that the best location to open wont be an area with few or no similar stores, but one that is relatively near to a relevant venue (school) and not to far from the largest cluster of players.\n",
    "</span>\n",
    "<h2>Data Description</h2>\n",
    "<ul>\n",
    "  <li>What are the board game stores in the area?</li>\n",
    "    <ul>\n",
    "      <li>Foursquare doesn't have a category for this type of store, so I'll need to search from similar stores and manually clean for the correct stores. The endpoint \"listed\" may be useful to find more venues.</li>\n",
    "    </ul>\n",
    "    <ul>\n",
    "      <li>where are they located?</li>\n",
    "      <li>what venues are nearby</li>\n",
    "    </ul>\n",
    "</ul>    \n",
    "<ul>\n",
    "  <li>Who are the users in the city? In particular, what are the statistics in relation to:</li><ul>\n",
    "    <li>Tips (count and which venues)</li>\n",
    "    <li>likes (count and which venues)</li>\n",
    "    <li>followers</li>\n",
    "    <li>location</li>\n",
    "  <li>The goal is to figure out:</li>    \n",
    "    <ul>\n",
    "    <li>how far are people willing to travel? (assuming like/tip = visted store)</li>\n",
    "    <li>how often does someone visit a store? (assuming like/tip = visted store)</li>\n",
    "    <li>if and who are the \"gaming groups\"? (assuming followers will like the same things)</li>\n",
    "    </ul>\n",
    "    </ul>\n",
    "</ul>\n",
    "<h3>Endpoints</h3>\n",
    "<ul>\n",
    "  <li>Venues</li>\n",
    "    <ul>\n",
    "        <li>explore, based on category: https://developer.foursquare.com/docs/build-with-foursquare/categories/</li>\n",
    "        <ul>\n",
    "          <li>Comic shops: 52f2ab2ebcbc57f1066b8b18</li>\n",
    "          <li>Top and Game shops: 4bf58dd8d48988d1f3941735</li>\n",
    "          <li>Video Game shops: 4bf58dd8d48988d10b951735</li>\n",
    "          <li>(Maybe) All shops: 4d4b7105d754a06378d81259</li>\n",
    "        </ul>\n",
    "        <li>likes</li>\n",
    "        <li>listed</li>\n",
    "    </ul>\n",
    "  <li>Users</li>\n",
    "    <ul>\n",
    "        <li>details</li>\n",
    "        <li>venuelikes</li>\n",
    "        <li>venuecheckins</li>        \n",
    "    </ul>\n",
    "  <li>Tips</li>\n",
    "    <ul>\n",
    "        <li>details</li>      \n",
    "    </ul>    \n",
    "</ul>\n",
    "</p>"
   ]
  },
  {
   "cell_type": "code",
   "execution_count": null,
   "metadata": {},
   "outputs": [],
   "source": []
  }
 ],
 "metadata": {
  "kernelspec": {
   "display_name": "Python 3",
   "language": "python",
   "name": "python3"
  },
  "language_info": {
   "codemirror_mode": {
    "name": "ipython",
    "version": 3
   },
   "file_extension": ".py",
   "mimetype": "text/x-python",
   "name": "python",
   "nbconvert_exporter": "python",
   "pygments_lexer": "ipython3",
   "version": "3.7.4"
  }
 },
 "nbformat": 4,
 "nbformat_minor": 2
}
